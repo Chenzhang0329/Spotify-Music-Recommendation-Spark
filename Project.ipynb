{
 "cells": [
  {
   "cell_type": "markdown",
   "id": "f2f5f372",
   "metadata": {},
   "source": [
    "# Abstract\n",
    "This notebook used postgres sql and pyspark to create a Spotify Music Recommendation by using different classification method"
   ]
  },
  {
   "cell_type": "markdown",
   "id": "f677dc89",
   "metadata": {},
   "source": [
    "# I. Basic Setup"
   ]
  },
  {
   "cell_type": "code",
   "execution_count": 1,
   "id": "1ba55f4c",
   "metadata": {},
   "outputs": [],
   "source": [
    "from pyspark.sql import SparkSession\n",
    "from os.path import abspath\n",
    "import findspark\n",
    "from pyspark.sql.functions import mean, sum, to_date, hour, when, date_format, count, isnan, col, weekofyear\n",
    "import seaborn as sns\n",
    "import matplotlib.pyplot as plt\n",
    "import pandas as pd\n",
    "from pyspark.ml.recommendation import ALS\n",
    "from pyspark.ml import Pipeline\n",
    "from pyspark.ml.evaluation import RegressionEvaluator\n",
    "from pyspark.ml.tuning import CrossValidator, ParamGridBuilder\n",
    "from pyspark.ml.feature import VectorAssembler, StringIndexer\n",
    "from pyspark.ml.regression import RandomForestRegressor"
   ]
  },
  {
   "cell_type": "code",
   "execution_count": 2,
   "id": "ddaef4a4",
   "metadata": {},
   "outputs": [],
   "source": [
    "# Set the Config dictionary used to connected to postgres sql\n",
    "config = {\n",
    "    'postgres': {'driver': 'org.postgresql.Driver',\n",
    "                 'password': 'project',\n",
    "                 'url': 'jdbc:postgresql://localhost:5432/project',\n",
    "                 'user': 'tony'},\n",
    "    'spark': {'spark_jars': 'spark.jars',\n",
    "              'spark_jars_path': '/home/cis6180/wd/jars/postgresql-42.5.1.jar',\n",
    "              'spark_master': 'spark://cis6180.myguest.virtualbox.org:7077'},\n",
    "    'stream_config': {'host': 'rtd.hpwren.ucsd.edu', 'port': 12028},\n",
    "    'mongo': {'host': 'localhost', 'port': 27017}\n",
    "}"
   ]
  },
  {
   "cell_type": "code",
   "execution_count": 3,
   "id": "f7d27e6d",
   "metadata": {},
   "outputs": [
    {
     "name": "stdout",
     "output_type": "stream",
     "text": [
      "23/04/08 08:14:12 WARN Utils: Your hostname, cis6180 resolves to a loopback address: 127.0.1.1; using 10.0.2.15 instead (on interface enp0s3)\n",
      "23/04/08 08:14:12 WARN Utils: Set SPARK_LOCAL_IP if you need to bind to another address\n",
      "23/04/08 08:14:12 WARN NativeCodeLoader: Unable to load native-hadoop library for your platform... using builtin-java classes where applicable\n"
     ]
    },
    {
     "name": "stderr",
     "output_type": "stream",
     "text": [
      "Setting default log level to \"WARN\".\n",
      "To adjust logging level use sc.setLogLevel(newLevel). For SparkR, use setLogLevel(newLevel).\n"
     ]
    },
    {
     "data": {
      "text/html": [
       "\n",
       "            <div>\n",
       "                <p><b>SparkSession - hive</b></p>\n",
       "                \n",
       "        <div>\n",
       "            <p><b>SparkContext</b></p>\n",
       "\n",
       "            <p><a href=\"http://10.0.2.15:4040\">Spark UI</a></p>\n",
       "\n",
       "            <dl>\n",
       "              <dt>Version</dt>\n",
       "                <dd><code>v3.3.1</code></dd>\n",
       "              <dt>Master</dt>\n",
       "                <dd><code>spark://cis6180.myguest.virtualbox.org:7077</code></dd>\n",
       "              <dt>AppName</dt>\n",
       "                <dd><code>project</code></dd>\n",
       "            </dl>\n",
       "        </div>\n",
       "        \n",
       "            </div>\n",
       "        "
      ],
      "text/plain": [
       "<pyspark.sql.session.SparkSession at 0x7f92eb3e7a30>"
      ]
     },
     "execution_count": 3,
     "metadata": {},
     "output_type": "execute_result"
    }
   ],
   "source": [
    "findspark.init()\n",
    "spark = SparkSession \\\n",
    "    .builder \\\n",
    "    .master(config['spark']['spark_master']) \\\n",
    "    .appName(\"project\") \\\n",
    "    .enableHiveSupport() \\\n",
    "    .config('spark.sql.warehouse.dir', abspath('spark-warehouse')) \\\n",
    "    .config('spark.cores.max', '3') \\\n",
    "    .config('spark.excutor.cores', '3') \\\n",
    "    .config(config['spark']['spark_jars'], config['spark']['spark_jars_path']) \\\n",
    "    .getOrCreate()\n",
    "\n",
    "spark.sparkContext.setLogLevel('WARN')\n",
    "spark"
   ]
  },
  {
   "cell_type": "markdown",
   "id": "5f97465f",
   "metadata": {},
   "source": [
    "## Section 1:Load and Display the Data"
   ]
  },
  {
   "cell_type": "markdown",
   "id": "ba858de6",
   "metadata": {},
   "source": [
    "For my project, I just used the data download from the Kaggle. In total, there are 3 different types of data, and in this section, I just import all the data and print out some basic summary information for our data."
   ]
  },
  {
   "cell_type": "code",
   "execution_count": 4,
   "id": "9082e99a",
   "metadata": {},
   "outputs": [],
   "source": [
    "def read_df(name):\n",
    "    df = (spark.read\n",
    "    .format('jdbc')\n",
    "    .option('url', config['postgres']['url'])\n",
    "    .option('driver', config['postgres']['driver'])\n",
    "    .option('user', config['postgres']['user'])\n",
    "    .option('password', config['postgres']['password'])\n",
    "    .option('dbtable', name)\n",
    "    .load()\n",
    "           )\n",
    "    return df"
   ]
  },
  {
   "cell_type": "code",
   "execution_count": 5,
   "id": "20c6d9d4",
   "metadata": {},
   "outputs": [],
   "source": [
    "music_df = read_df('music')\n",
    "cust_df = read_df('cust')\n",
    "tracks_df = read_df('tracks')"
   ]
  },
  {
   "cell_type": "markdown",
   "id": "9453d304",
   "metadata": {},
   "source": [
    "In this section, we just do some basic summary information about the music data. And we found out there are 1345 different trackers, there are 438 distinct artist for all the trackers, and the average length of those tracks are around 241"
   ]
  },
  {
   "cell_type": "code",
   "execution_count": 6,
   "id": "29da6048",
   "metadata": {},
   "outputs": [
    {
     "name": "stderr",
     "output_type": "stream",
     "text": [
      "\r",
      "[Stage 0:>                                                          (0 + 1) / 1]\r"
     ]
    },
    {
     "name": "stdout",
     "output_type": "stream",
     "text": [
      "+-------+--------------------+------------+------+\n",
      "|trackid|               title|      artist|length|\n",
      "+-------+--------------------+------------+------+\n",
      "|      0|    Caught Up In You| .38 Special|   200|\n",
      "|      1|        Fantasy Girl| .38 Special|   219|\n",
      "|      2|     Hold On Loosely| .38 Special|   253|\n",
      "|      3|Hold On Loosely  ...| .38 Special|   154|\n",
      "|      4|   Art For Arts Sake|        10cc|   341|\n",
      "|      5|          Kryptonite|3 Doors Down|   221|\n",
      "|      6|               Loser|3 Doors Down|   127|\n",
      "|      7|          Take On Me|        a-ha|   135|\n",
      "|      8|       Back In Black|       AC/DC|   304|\n",
      "|      9|             Big Gun|       AC/DC|   305|\n",
      "+-------+--------------------+------------+------+\n",
      "only showing top 10 rows\n",
      "\n"
     ]
    },
    {
     "name": "stderr",
     "output_type": "stream",
     "text": [
      "\r",
      "                                                                                \r"
     ]
    }
   ],
   "source": [
    "music_df.show(10)"
   ]
  },
  {
   "cell_type": "code",
   "execution_count": 8,
   "id": "6bc6e5f7",
   "metadata": {},
   "outputs": [
    {
     "name": "stderr",
     "output_type": "stream",
     "text": [
      "                                                                                \r"
     ]
    },
    {
     "name": "stdout",
     "output_type": "stream",
     "text": [
      "---------------------- Summary  Table ----------------------\n",
      "------------------------------------------------------------\n",
      "Total tracks:  1345\n",
      "Distinct total tracks:  1345\n",
      "Distinct total artist:  438\n",
      "Average length:  241.15315985130113\n",
      "------------------------------------------------------------\n"
     ]
    }
   ],
   "source": [
    "track_count = music_df.count()\n",
    "track_distinct_count = music_df.select('trackid').distinct().count()\n",
    "artist_distinct_count = music_df.select('artist').distinct().count()\n",
    "avg_length = music_df.agg(mean('length')).collect()[0][0]\n",
    "\n",
    "print('--'*11, \"Summary  Table\", \"--\"*11)\n",
    "print('--'*30)\n",
    "print(\"Total tracks: \", track_count)\n",
    "print(\"Distinct total tracks: \", track_distinct_count)\n",
    "print(\"Distinct total artist: \", artist_distinct_count)\n",
    "print(\"Average length: \", avg_length)\n",
    "print('--'*30)"
   ]
  },
  {
   "cell_type": "markdown",
   "id": "942d5020",
   "metadata": {},
   "source": [
    "Then, we also print out some basic summary information for the second table, we have 5000 distinct total customers, we have 2016 female customers, and 2984 male customers."
   ]
  },
  {
   "cell_type": "code",
   "execution_count": 9,
   "id": "b3a17403",
   "metadata": {},
   "outputs": [
    {
     "name": "stderr",
     "output_type": "stream",
     "text": [
      "\r",
      "[Stage 19:>                                                         (0 + 1) / 1]\r"
     ]
    },
    {
     "name": "stdout",
     "output_type": "stream",
     "text": [
      "+------+----------------+------+--------------------+-----+----------+------+-----+--------+--------------+\n",
      "|custid|            name|gender|             address|  zip|  signdate|status|level|campaign|linkedwithapps|\n",
      "+------+----------------+------+--------------------+-----+----------+------+-----+--------+--------------+\n",
      "|     0|   Gregory Koval|     0|13004 Easy Cider ...|72132|2013-06-04|     1|    1|       1|             0|\n",
      "|     1|   Robert Gordon|     0|10497 Thunder Hic...|17307|2013-07-27|     1|    1|       1|             0|\n",
      "|     2|   Paula Peltier|     0|10084 Easy Gate Bend|66216|2013-01-13|     1|    0|       4|             1|\n",
      "|     3|   Francine Gray|     0|54845 Bent Pony H...|36690|2013-07-11|     1|    1|       1|             1|\n",
      "|     4|    David Garcia|     0|8551 Tawny Fox Villa|61377|2012-09-09|     1|    0|       1|             1|\n",
      "|     5|   Matthew Perry|     1|29677 Sunny Autum...|20115|2012-10-09|     1|    0|       3|             0|\n",
      "|     6|Marjorie Jackman|     1|83213 Crimson Aut...|15330|2013-06-27|     1|    0|       1|             1|\n",
      "|     7|Margaret Jhonson|     1|45409 Quaint Leaf...|33570|2013-07-12|     1|    1|       3|             0|\n",
      "|     8|   Gregory Laird|     0|570 Clear Beaver ...|41240|2012-09-09|     1|    1|       3|             1|\n",
      "|     9| Timothy Buckner|     1|61215 Tender Fore...|63565|2013-07-02|     1|    2|       1|             0|\n",
      "+------+----------------+------+--------------------+-----+----------+------+-----+--------+--------------+\n",
      "only showing top 10 rows\n",
      "\n"
     ]
    },
    {
     "name": "stderr",
     "output_type": "stream",
     "text": [
      "\r",
      "                                                                                \r"
     ]
    }
   ],
   "source": [
    "cust_df.show(10)"
   ]
  },
  {
   "cell_type": "code",
   "execution_count": 10,
   "id": "704a2368",
   "metadata": {},
   "outputs": [
    {
     "name": "stdout",
     "output_type": "stream",
     "text": [
      "---------------------- Summary  Table ----------------------\n",
      "------------------------------------------------------------\n",
      "Total customer:  5000\n",
      "Distinct total customer:  5000\n",
      "Total female number:  2016\n",
      "Total male number:  2984\n",
      "------------------------------------------------------------\n"
     ]
    }
   ],
   "source": [
    "cust_count = cust_df.count()\n",
    "cust_distinct_count = cust_df.select('custid').distinct().count()\n",
    "female_count = cust_df.agg(sum('gender')).collect()[0][0]\n",
    "male_count = cust_distinct_count - female_count\n",
    "\n",
    "print('--'*11, \"Summary  Table\", \"--\"*11)\n",
    "print('--'*30)\n",
    "print(\"Total customer: \", cust_count)\n",
    "print(\"Distinct total customer: \", cust_distinct_count)\n",
    "print(\"Total female number: \", female_count)\n",
    "print(\"Total male number: \", male_count)\n",
    "print('--'*30)"
   ]
  },
  {
   "cell_type": "code",
   "execution_count": 11,
   "id": "f7b5acea",
   "metadata": {},
   "outputs": [
    {
     "name": "stderr",
     "output_type": "stream",
     "text": [
      "\r",
      "[Stage 32:>                                                         (0 + 1) / 1]\r"
     ]
    },
    {
     "name": "stdout",
     "output_type": "stream",
     "text": [
      "+-------+------+-------+-------------------+------+-------+\n",
      "|eventid|custid|trackid|           datetime|mobile|zipcode|\n",
      "+-------+------+-------+-------------------+------+-------+\n",
      "|      0|    48|    453|2014-10-23 03:26:00|     0|  72132|\n",
      "|      1|  1081|     19|2014-10-15 18:32:00|     1|  17307|\n",
      "|      2|   532|     36|2014-12-10 15:33:00|     1|  66216|\n",
      "|      3|  2641|    822|2014-10-20 02:24:00|     1|  36690|\n",
      "|      4|  2251|    338|2014-11-18 07:16:00|     1|  61377|\n",
      "|      5|  1811|      6|2014-11-18 02:00:00|     1|  20115|\n",
      "|      6|  3644|     24|2014-12-12 15:24:00|     1|  15330|\n",
      "|      7|   250|    726|2014-10-07 09:48:00|     0|  33570|\n",
      "|      8|  1782|    442|2014-12-30 15:27:00|     1|  41240|\n",
      "|      9|  2932|    775|2014-11-12 07:45:00|     0|  63565|\n",
      "+-------+------+-------+-------------------+------+-------+\n",
      "only showing top 10 rows\n",
      "\n"
     ]
    },
    {
     "name": "stderr",
     "output_type": "stream",
     "text": [
      "\r",
      "                                                                                \r"
     ]
    }
   ],
   "source": [
    "tracks_df.show(10)"
   ]
  },
  {
   "cell_type": "code",
   "execution_count": 12,
   "id": "e6b006d7",
   "metadata": {},
   "outputs": [
    {
     "name": "stderr",
     "output_type": "stream",
     "text": [
      "                                                                                \r"
     ]
    },
    {
     "name": "stdout",
     "output_type": "stream",
     "text": [
      "---------------------- Summary  Table ----------------------\n",
      "------------------------------------------------------------\n",
      "Total event:  1000000\n",
      "Distinct total event:  1000000\n",
      "Distinct custid:  5000\n",
      "Distinct trackid:  1700\n",
      "Total mobile number:  392235\n",
      "Total non mobile number:  607765\n",
      "------------------------------------------------------------\n"
     ]
    }
   ],
   "source": [
    "event_count = tracks_df.count()\n",
    "event_distinct_count = tracks_df.select('eventid').distinct().count()\n",
    "tracks_custid_distinct_count = tracks_df.select('custid').distinct().count()\n",
    "tracks_trackid_distinct_count = tracks_df.select('trackid').distinct().count()\n",
    "non_mobile_count = tracks_df.agg(sum('mobile')).collect()[0][0]\n",
    "mobile_count = event_count - non_mobile_count\n",
    "\n",
    "print('--'*11, \"Summary  Table\", \"--\"*11)\n",
    "print('--'*30)\n",
    "print(\"Total event: \", event_count)\n",
    "print(\"Distinct total event: \", event_distinct_count)\n",
    "print(\"Distinct custid: \", tracks_custid_distinct_count)\n",
    "print(\"Distinct trackid: \", tracks_trackid_distinct_count)\n",
    "print(\"Total mobile number: \", mobile_count)\n",
    "print(\"Total non mobile number: \", non_mobile_count)\n",
    "print('--'*30)"
   ]
  },
  {
   "cell_type": "markdown",
   "id": "c7c232e9",
   "metadata": {},
   "source": [
    "## Section 2: Exploration Data Analysis"
   ]
  },
  {
   "cell_type": "markdown",
   "id": "7b36fc5a",
   "metadata": {},
   "source": [
    "Cause we find out that there are some relationships between three tables. Then I merge three tables and try to create some useful information based on the information we have right now!"
   ]
  },
  {
   "cell_type": "markdown",
   "id": "f1c2187a",
   "metadata": {},
   "source": [
    "### Section 2-1 Data Visualization"
   ]
  },
  {
   "cell_type": "code",
   "execution_count": 10,
   "id": "5505be19",
   "metadata": {},
   "outputs": [
    {
     "name": "stderr",
     "output_type": "stream",
     "text": [
      "[Stage 37:>                                                         (0 + 1) / 1]\r"
     ]
    },
    {
     "name": "stdout",
     "output_type": "stream",
     "text": [
      "+------+-------+-------+-------------------+------+-------+---------------+------+--------------------+-----+----------+------+-----+--------+--------------+\n",
      "|custid|eventid|trackid|           datetime|mobile|zipcode|           name|gender|             address|  zip|  signdate|status|level|campaign|linkedwithapps|\n",
      "+------+-------+-------+-------------------+------+-------+---------------+------+--------------------+-----+----------+------+-----+--------+--------------+\n",
      "|    48|      0|    453|2014-10-23 03:26:00|     0|  72132|   Lucas Pizano|     0|2723 Stony Beaver...|99256|2012-11-02|     1|    0|       3|             1|\n",
      "|  1811|      5|      6|2014-11-18 02:00:00|     1|  20115|   Joshua Reyna|     0|987 Cotton Maple ...|24574|2013-01-14|     1|    1|       1|             1|\n",
      "|   532|      2|     36|2014-12-10 15:33:00|     1|  66216|    Carlos Kirk|     0|14 Hidden Bear Ci...|90745|2013-07-14|     0|    2|       1|             1|\n",
      "|  1081|      1|     19|2014-10-15 18:32:00|     1|  17307|Kenneth Rodgers|     0|74413 Heather Elm...|30301|2013-05-14|     0|    1|       1|             1|\n",
      "|  2641|      3|    822|2014-10-20 02:24:00|     1|  36690|  Charlene Boyd|     0|5967 Stony Branch...| 4645|2013-03-26|     1|    1|       1|             0|\n",
      "+------+-------+-------+-------------------+------+-------+---------------+------+--------------------+-----+----------+------+-----+--------+--------------+\n",
      "only showing top 5 rows\n",
      "\n"
     ]
    },
    {
     "name": "stderr",
     "output_type": "stream",
     "text": [
      "\r",
      "                                                                                \r"
     ]
    }
   ],
   "source": [
    "track_cust_joined = tracks_df.join(cust_df, ['custid'], \"left_outer\")\n",
    "track_cust_joined.show(5)"
   ]
  },
  {
   "cell_type": "code",
   "execution_count": 11,
   "id": "bff2707f",
   "metadata": {},
   "outputs": [
    {
     "name": "stderr",
     "output_type": "stream",
     "text": [
      "[Stage 43:>                                                         (0 + 1) / 1]\r"
     ]
    },
    {
     "name": "stdout",
     "output_type": "stream",
     "text": [
      "+-------+------+-------+-------------------+------+-------+---------------+------+--------------------+-----+----------+------+-----+--------+--------------+-------------------+--------------------+------+\n",
      "|trackid|custid|eventid|           datetime|mobile|zipcode|           name|gender|             address|  zip|  signdate|status|level|campaign|linkedwithapps|              title|              artist|length|\n",
      "+-------+------+-------+-------------------+------+-------+---------------+------+--------------------+-----+----------+------+-----+--------+--------------+-------------------+--------------------+------+\n",
      "|    453|    48|      0|2014-10-23 03:26:00|     0|  72132|   Lucas Pizano|     0|2723 Stony Beaver...|99256|2012-11-02|     1|    0|       3|             1|      Strange Magic|Electric Light Or...|   170|\n",
      "|      6|  1811|      5|2014-11-18 02:00:00|     1|  20115|   Joshua Reyna|     0|987 Cotton Maple ...|24574|2013-01-14|     1|    1|       1|             1|              Loser|        3 Doors Down|   127|\n",
      "|     36|   532|      2|2014-12-10 15:33:00|     1|  66216|    Carlos Kirk|     0|14 Hidden Bear Ci...|90745|2013-07-14|     0|    2|       1|             1|Big Ten Inch Record|           Aerosmith|   204|\n",
      "|     19|  1081|      1|2014-10-15 18:32:00|     1|  17307|Kenneth Rodgers|     0|74413 Heather Elm...|30301|2013-05-14|     0|    1|       1|             1|        Money Talks|               AC/DC|   323|\n",
      "|    822|  2641|      3|2014-10-20 02:24:00|     1|  36690|  Charlene Boyd|     0|5967 Stony Branch...| 4645|2013-03-26|     1|    1|       1|             0|         The Ripper|        Judas Priest|   122|\n",
      "+-------+------+-------+-------------------+------+-------+---------------+------+--------------------+-----+----------+------+-----+--------+--------------+-------------------+--------------------+------+\n",
      "only showing top 5 rows\n",
      "\n"
     ]
    },
    {
     "name": "stderr",
     "output_type": "stream",
     "text": [
      "\r",
      "                                                                                \r"
     ]
    }
   ],
   "source": [
    "all_join = track_cust_joined.join(music_df, ['trackid'], 'left_outer')\n",
    "all_join.show(5)"
   ]
  },
  {
   "cell_type": "code",
   "execution_count": 12,
   "id": "0c763f62",
   "metadata": {},
   "outputs": [
    {
     "name": "stderr",
     "output_type": "stream",
     "text": [
      "[Stage 60:===================>                                      (1 + 2) / 3]\r"
     ]
    },
    {
     "name": "stdout",
     "output_type": "stream",
     "text": [
      "+------+-------------+---------+\n",
      "|custid|         name|numTracks|\n",
      "+------+-------------+---------+\n",
      "|     0|Gregory Koval|     1617|\n",
      "|     1|Robert Gordon|     1510|\n",
      "|     2|Paula Peltier|     1408|\n",
      "|     3|Francine Gray|     1310|\n",
      "|     4| David Garcia|     1306|\n",
      "+------+-------------+---------+\n",
      "only showing top 5 rows\n",
      "\n"
     ]
    },
    {
     "name": "stderr",
     "output_type": "stream",
     "text": [
      "\r",
      "                                                                                \r"
     ]
    }
   ],
   "source": [
    "# Calaulate the how many tracks that each person listened\n",
    "all_join.createOrReplaceTempView('all_join')\n",
    "result = spark.sql(\"SELECT custid, name, COUNT(DISTINCT trackid)\\\n",
    "                   as numTracks FROM all_join GROUP BY custid,name ORDER BY numTracks DESC\")\n",
    "\n",
    "result.show(5)"
   ]
  },
  {
   "cell_type": "code",
   "execution_count": 13,
   "id": "4b36d290",
   "metadata": {},
   "outputs": [
    {
     "name": "stderr",
     "output_type": "stream",
     "text": [
      "                                                                                \r"
     ]
    },
    {
     "data": {
      "image/png": "[encoded data removed]",
      "text/plain": [
       "<Figure size 640x480 with 1 Axes>"
      ]
     },
     "metadata": {},
     "output_type": "display_data"
    }
   ],
   "source": [
    "# Create a bar chart to show the top 20 tracks of customer\n",
    "pd_result = result.toPandas()\n",
    "sns.barplot(x = 'name', y = 'numTracks', data = pd_result[:5], color = 'salmon')\n",
    "plt.title(\"Barchart of TOP 20 tracks of each customer\")\n",
    "plt.xlabel(\"Customer Name\", rotation = 0)\n",
    "plt.ylabel(\"Num of Tracks\")\n",
    "plt.xticks(rotation = 90)\n",
    "plt.show()"
   ]
  },
  {
   "cell_type": "code",
   "execution_count": 18,
   "id": "3bf64ef7",
   "metadata": {},
   "outputs": [
    {
     "name": "stderr",
     "output_type": "stream",
     "text": [
      "\r",
      "[Stage 95:>                 (0 + 1) / 1][Stage 96:>                 (0 + 1) / 1]\r",
      "\r",
      "                                                                                \r"
     ]
    },
    {
     "name": "stdout",
     "output_type": "stream",
     "text": [
      "+------+-------------+-----------+\n",
      "|custid|         name|mobileCount|\n",
      "+------+-------------+-----------+\n",
      "|     2|Paula Peltier|       1060|\n",
      "|     0|Gregory Koval|       1054|\n",
      "|     4| David Garcia|        920|\n",
      "|     5|Matthew Perry|        889|\n",
      "|     1|Robert Gordon|        864|\n",
      "+------+-------------+-----------+\n",
      "only showing top 5 rows\n",
      "\n"
     ]
    },
    {
     "name": "stderr",
     "output_type": "stream",
     "text": [
      "\r",
      "[Stage 103:======================================>                  (2 + 1) / 3]\r",
      "\r",
      "                                                                                \r"
     ]
    }
   ],
   "source": [
    "# Calculate the how many tracks are using mobile device for each customer\n",
    "mobile_result = spark.sql(\"SELECT custid, name, COUNT(DISTINCT trackid)\\\n",
    "                   as mobileCount FROM all_join WHERE mobile =0 GROUP BY custid,name ORDER BY mobileCount DESC\")\n",
    "mobile_result.show(5)"
   ]
  },
  {
   "cell_type": "code",
   "execution_count": 19,
   "id": "fdf98c2c",
   "metadata": {},
   "outputs": [
    {
     "name": "stderr",
     "output_type": "stream",
     "text": [
      "                                                                                \r"
     ]
    },
    {
     "data": {
      "image/png": "[encoded data removed]",
      "text/plain": [
       "<Figure size 640x480 with 1 Axes>"
      ]
     },
     "metadata": {},
     "output_type": "display_data"
    }
   ],
   "source": [
    "# Create a bar chart to show the top 20 customers who uses mobile a lot\n",
    "pd_mobile_result = mobile_result.toPandas()\n",
    "sns.barplot(x = 'name', y = 'mobileCount', data = pd_mobile_result[:20], color = 'salmon')\n",
    "plt.title(\"Barchart of TOP 20 customer use mobile\")\n",
    "plt.xlabel(\"Customer Name\", rotation = 0)\n",
    "plt.ylabel(\"Num of mobile times\")\n",
    "plt.xticks(rotation = 90)\n",
    "plt.show()"
   ]
  },
  {
   "cell_type": "code",
   "execution_count": 20,
   "id": "997d83a2",
   "metadata": {},
   "outputs": [
    {
     "name": "stderr",
     "output_type": "stream",
     "text": [
      "[Stage 126:======================================>                  (2 + 1) / 3]\r"
     ]
    },
    {
     "name": "stdout",
     "output_type": "stream",
     "text": [
      "+-------+--------------------+-------+\n",
      "|trackid|               title|numCust|\n",
      "+-------+--------------------+-------+\n",
      "|      0|    Caught Up In You|   4190|\n",
      "|      1|        Fantasy Girl|   3662|\n",
      "|      2|     Hold On Loosely|   3390|\n",
      "|      3|Hold On Loosely  ...|   3212|\n",
      "|      4|   Art For Arts Sake|   2996|\n",
      "+-------+--------------------+-------+\n",
      "only showing top 5 rows\n",
      "\n"
     ]
    },
    {
     "name": "stderr",
     "output_type": "stream",
     "text": [
      "\r",
      "                                                                                \r"
     ]
    }
   ],
   "source": [
    "# Calculate how many customer listened for each song\n",
    "songs_result = spark.sql(\"SELECT trackid, title, COUNT(DISTINCT custid) as numCust\\\n",
    "                         FROM all_join GROUP BY trackid, title ORDER BY numCust DESC\")\n",
    "songs_result.show(5)"
   ]
  },
  {
   "cell_type": "code",
   "execution_count": 21,
   "id": "7d95eb98",
   "metadata": {},
   "outputs": [
    {
     "name": "stderr",
     "output_type": "stream",
     "text": [
      "                                                                                \r"
     ]
    },
    {
     "data": {
      "image/png": "[encoded data removed]",
      "text/plain": [
       "<Figure size 640x480 with 1 Axes>"
      ]
     },
     "metadata": {},
     "output_type": "display_data"
    }
   ],
   "source": [
    "# Create a bar chart to show the top 20 songs have more customer listened\n",
    "pd_song_result = songs_result.toPandas()\n",
    "sns.barplot(x = 'title', y = 'numCust', data = pd_song_result[:20], color = 'salmon')\n",
    "plt.title(\"Barchart of TOP 20 songs\")\n",
    "plt.xlabel(\"Songs Title\", rotation = 0)\n",
    "plt.ylabel(\"Num of Customer\")\n",
    "plt.xticks(rotation = 90)\n",
    "plt.show()"
   ]
  },
  {
   "cell_type": "code",
   "execution_count": 15,
   "id": "1ecce5b5",
   "metadata": {},
   "outputs": [
    {
     "name": "stderr",
     "output_type": "stream",
     "text": [
      "[Stage 75:>                                                         (0 + 1) / 1]\r"
     ]
    },
    {
     "name": "stdout",
     "output_type": "stream",
     "text": [
      "+------+--------------+-------+----------------+------+------+------+--------+--------+------+---------+------+\n",
      "|custid|          name|trackid|           title|length|mobile|gender|  date_l|  time_l|hour_l| period_l|week_l|\n",
      "+------+--------------+-------+----------------+------+------+------+--------+--------+------+---------+------+\n",
      "|   148|     Ty Walker|    218|Cool The Engines|   307|     1|     1|11/04/14|13:17:00|    13|afternoon|    45|\n",
      "|  1959| Douglas Burns|    920|            null|  null|     0|     0|11/06/14|12:41:00|    12|afternoon|    45|\n",
      "|  4900|   Kathy Ramos|   1379|    SUPERSTITION|   182|     0|     0|11/21/14|13:58:00|    13|afternoon|    47|\n",
      "|  1580|  Karen Bowker|     16|       Jailbreak|   160|     1|     1|10/09/14|07:37:00|     7|  morning|    41|\n",
      "|   833|Jose Rodriques|    223|   Peace of Mind|   299|     0|     0|10/12/14|17:50:00|    17|afternoon|    41|\n",
      "+------+--------------+-------+----------------+------+------+------+--------+--------+------+---------+------+\n",
      "only showing top 5 rows\n",
      "\n"
     ]
    },
    {
     "name": "stderr",
     "output_type": "stream",
     "text": [
      "\r",
      "                                                                                \r"
     ]
    }
   ],
   "source": [
    "final_table = spark.sql(\"SELECT custid, name, trackid, title, length , mobile, gender,\\\n",
    "                        split(datetime, ' ')[0] as date_l, split(datetime, ' ')[1] as time_l FROM all_join\")\n",
    "final_table = final_table.withColumn('hour_l', hour('time_l'))\n",
    "final_table = final_table.withColumn('period_l', \n",
    "                                     when((final_table['hour_l'] >= 0) & (final_table['hour_l'] < 6), 'midnight')\\\n",
    "                                     .when((final_table['hour_l'] >= 6) & (final_table['hour_l'] < 12), 'morning')\\\n",
    "                                     .when((final_table['hour_l'] >= 12) & (final_table['hour_l'] < 18), 'afternoon')\\\n",
    "                                     .otherwise('evening'))\n",
    "final_table = final_table.withColumn('week_l', weekofyear(to_date('date_l')))\n",
    "final_table = final_table.withColumn('date_l', date_format('date_l', 'MM/dd/yy'))\n",
    "final_table.show(5)\n",
    "final_table.createOrReplaceTempView('final_table')"
   ]
  },
  {
   "cell_type": "code",
   "execution_count": 16,
   "id": "489f8d49",
   "metadata": {},
   "outputs": [
    {
     "name": "stderr",
     "output_type": "stream",
     "text": [
      "                                                                                \r"
     ]
    },
    {
     "data": {
      "image/png": "[encoded data removed]",
      "text/plain": [
       "<Figure size 640x480 with 1 Axes>"
      ]
     },
     "metadata": {},
     "output_type": "display_data"
    }
   ],
   "source": [
    "# Create a line plot to visualize the tracks within 24 hours\n",
    "df_visual1 = spark.sql(\"SELECT CAST(hour_l AS INTEGER) AS hour_l, \\\n",
    "count(trackid) as totaltrack FROM final_table GROUP BY hour_l ORDER BY hour_l\")\n",
    "pd_visual1 = df_visual1.toPandas()\n",
    "sns.lineplot(x = 'hour_l', y = 'totaltrack', data = pd_visual1)\n",
    "plt.xlabel('Hour')\n",
    "plt.ylabel('Total tracks')\n",
    "plt.show()"
   ]
  },
  {
   "cell_type": "code",
   "execution_count": 17,
   "id": "8dbf5daf",
   "metadata": {},
   "outputs": [
    {
     "name": "stderr",
     "output_type": "stream",
     "text": [
      "                                                                                \r"
     ]
    },
    {
     "data": {
      "image/png": "[encoded data removed]",
      "text/plain": [
       "<Figure size 640x480 with 1 Axes>"
      ]
     },
     "metadata": {},
     "output_type": "display_data"
    }
   ],
   "source": [
    "# Create a line plot to visualize the number of tracks within 4 periods\n",
    "df_visual2 = spark.sql(\"SELECT period_l, \\\n",
    "count(trackid) as totaltrack FROM final_table GROUP BY period_l\")\n",
    "pd_visual2 = df_visual2.toPandas()\n",
    "sns.lineplot(x = 'period_l', y = 'totaltrack', data = pd_visual2)\n",
    "plt.xlabel('Period')\n",
    "plt.ylabel('Total tracks')\n",
    "plt.show()"
   ]
  },
  {
   "cell_type": "markdown",
   "id": "b8873cae",
   "metadata": {},
   "source": [
    "### Section 2-2 Data Checking, Cleaning, and preprocessing"
   ]
  },
  {
   "cell_type": "code",
   "execution_count": 26,
   "id": "ac9ac53b",
   "metadata": {},
   "outputs": [
    {
     "name": "stderr",
     "output_type": "stream",
     "text": [
      "[Stage 307:======================================>                  (2 + 1) / 3]\r"
     ]
    },
    {
     "name": "stdout",
     "output_type": "stream",
     "text": [
      "+------+----+-------+------+------+------+------+------+------+------+--------+------+\n",
      "|custid|name|trackid| title|length|mobile|gender|date_l|time_l|hour_l|period_l|week_l|\n",
      "+------+----+-------+------+------+------+------+------+------+------+--------+------+\n",
      "|     0|   0|      0|180324|     0|     0|     0|     0|     0|     0|       0|     0|\n",
      "+------+----+-------+------+------+------+------+------+------+------+--------+------+\n",
      "\n"
     ]
    },
    {
     "name": "stderr",
     "output_type": "stream",
     "text": [
      "\r",
      "                                                                                \r"
     ]
    }
   ],
   "source": [
    "# fill the na value with average of the column\n",
    "final_table = final_table.fillna({'length': 0})\n",
    "# Checking is there any missing value for every columns\n",
    "final_table.select([count(when(isnan(c) | col(c).isNull(), c)).alias(c) for c in final_table.columns]\n",
    "   ).show()\n",
    "final_table.createOrReplaceTempView('final_table')"
   ]
  },
  {
   "cell_type": "markdown",
   "id": "110d6d74",
   "metadata": {},
   "source": [
    "We find out that only title and length column have missing value, but the main thing we cared about is the customer name, then we can just ignore those missing value. And we gonna split the data into train data and test data first, then we will calculate the rating scores seperately. Cause in the previous section, we select the data between week 40 and 51 as train data and week 52 and 53 as test data"
   ]
  },
  {
   "cell_type": "code",
   "execution_count": 35,
   "id": "528944ee",
   "metadata": {},
   "outputs": [],
   "source": [
    "train_data = spark.sql(\"SELECT * FROM final_table WHERE week_l <= 51 AND week_l >=40\")\n",
    "test_data = spark.sql(\"SELECT * FROM final_table WHERE week_l > 51\")\n",
    "train_data.createOrReplaceTempView('train_table')\n",
    "test_data.createOrReplaceTempView('test_table')"
   ]
  },
  {
   "cell_type": "markdown",
   "id": "885798db",
   "metadata": {},
   "source": [
    "### Section 2-3 Adding Features\n",
    "In this section, we gonna percentile to create a kind of cummulative score to help to fit model."
   ]
  },
  {
   "cell_type": "code",
   "execution_count": 36,
   "id": "ad4934f4",
   "metadata": {},
   "outputs": [
    {
     "name": "stderr",
     "output_type": "stream",
     "text": [
      "                                                                                \r"
     ]
    },
    {
     "name": "stdout",
     "output_type": "stream",
     "text": [
      "+------+-------+------+\n",
      "|custid|trackid|rating|\n",
      "+------+-------+------+\n",
      "|  1225|   1097|     0|\n",
      "|   353|    122|     0|\n",
      "|  1102|   1198|     0|\n",
      "|  1467|    824|     1|\n",
      "|  1788|   1216|     1|\n",
      "+------+-------+------+\n",
      "only showing top 5 rows\n",
      "\n"
     ]
    },
    {
     "name": "stderr",
     "output_type": "stream",
     "text": [
      "[Stage 385:>                                                        (0 + 1) / 1]\r"
     ]
    },
    {
     "name": "stdout",
     "output_type": "stream",
     "text": [
      "+------+-------+------+\n",
      "|custid|trackid|rating|\n",
      "+------+-------+------+\n",
      "|   116|      6|     1|\n",
      "|   934|    718|     1|\n",
      "|  1411|     45|     1|\n",
      "|  1579|     98|     1|\n",
      "|  3470|    134|     0|\n",
      "+------+-------+------+\n",
      "only showing top 5 rows\n",
      "\n"
     ]
    },
    {
     "name": "stderr",
     "output_type": "stream",
     "text": [
      "\r",
      "                                                                                \r"
     ]
    }
   ],
   "source": [
    "# We create a new column called rating by calculate the percentile of the custid and trackid group\n",
    "train_table = spark.sql(\"SELECT F.custid, F.trackid, B.rating \\\n",
    "FROM train_table AS F LEFT JOIN (SELECT custid, trackid, sum(case when length > 0 then 1 else 0 end) as rating \\\n",
    "FROM train_table GROUP BY custid, trackid) AS B ON (F.custid == B.custid AND F.trackid == B.trackid)\")\n",
    "test_table = spark.sql(\"SELECT F.custid, F.trackid, B.rating \\\n",
    "FROM test_table AS F LEFT JOIN (SELECT custid, trackid, sum(case when length > 0 then 1 else 0 end) as rating \\\n",
    "FROM test_table GROUP BY custid, trackid) AS B ON (F.custid == B.custid AND F.trackid == B.trackid)\")\n",
    "train_table.show(5)\n",
    "train_table.createOrReplaceTempView('train_table')\n",
    "test_table.show(5)\n",
    "test_table.createOrReplaceTempView('test_table')"
   ]
  },
  {
   "cell_type": "code",
   "execution_count": 37,
   "id": "9fcfc55c",
   "metadata": {},
   "outputs": [
    {
     "name": "stderr",
     "output_type": "stream",
     "text": [
      "                                                                                \r"
     ]
    },
    {
     "name": "stdout",
     "output_type": "stream",
     "text": [
      "+------+-------+------+--------+------+\n",
      "|custid|trackid|rating|num_cust|p_rank|\n",
      "+------+-------+------+--------+------+\n",
      "|     1|      0|    43|    4069|0.0000|\n",
      "|     1|      0|    43|    4069|0.0000|\n",
      "|     1|      0|    43|    4069|0.0000|\n",
      "|     1|      0|    43|    4069|0.0000|\n",
      "|     1|      0|    43|    4069|0.0000|\n",
      "+------+-------+------+--------+------+\n",
      "only showing top 5 rows\n",
      "\n"
     ]
    },
    {
     "name": "stderr",
     "output_type": "stream",
     "text": [
      "                                                                                \r"
     ]
    },
    {
     "name": "stdout",
     "output_type": "stream",
     "text": [
      "+------+-------+------+--------+------+\n",
      "|custid|trackid|rating|num_cust|p_rank|\n",
      "+------+-------+------+--------+------+\n",
      "|     0|      0|     9|     755|0.0000|\n",
      "|     0|      0|     9|     755|0.0000|\n",
      "|     0|      0|     9|     755|0.0000|\n",
      "|     0|      0|     9|     755|0.0000|\n",
      "|     0|      0|     9|     755|0.0000|\n",
      "+------+-------+------+--------+------+\n",
      "only showing top 5 rows\n",
      "\n"
     ]
    }
   ],
   "source": [
    "final_train_data = spark.sql(\"SELECT new.*, ROUND((rank() over (partition by custid \\\n",
    "order by num_cust desc)-1)*1.0/(count(trackid) over (partition by custid)-1), 4) \\\n",
    "as p_rank FROM (SELECT I.*, B.num_cust FROM \\\n",
    "train_table as I LEFT JOIN (SELECT trackid, count(distinct custid) AS num_cust FROM train_table GROUP BY trackid)\\\n",
    "AS B ON I.trackid == B.trackid) AS new\")\n",
    "final_test_data = spark.sql(\"SELECT new.*, ROUND((rank() over (partition by custid \\\n",
    "order by num_cust desc)-1)*1.0/(count(trackid) over (partition by custid)-1), 4) \\\n",
    "as p_rank FROM (SELECT I.*, B.num_cust FROM \\\n",
    "test_table as I LEFT JOIN (SELECT trackid, count(distinct custid) AS num_cust FROM test_table GROUP BY trackid)\\\n",
    "AS B ON I.trackid == B.trackid) AS new\")\n",
    "final_train_data.show(5)\n",
    "final_test_data.show(5)"
   ]
  },
  {
   "cell_type": "markdown",
   "id": "6421279a",
   "metadata": {},
   "source": [
    "## Section 3: Model Fitting"
   ]
  },
  {
   "cell_type": "markdown",
   "id": "ed264471",
   "metadata": {},
   "source": [
    "### Section 3-1-1 Random Forest Regressor without using implicit rating"
   ]
  },
  {
   "cell_type": "code",
   "execution_count": 47,
   "id": "a97cabda",
   "metadata": {},
   "outputs": [],
   "source": [
    "# Set up the train and test data for regression model\n",
    "reg_train_data = spark.sql(\"SELECT custid, trackid, length, mobile, gender, hour_l \\\n",
    "FROM final_table WHERE week_l <= 51 AND week_l >=40\")\n",
    "reg_test_data = spark.sql(\"SELECT custid, trackid, length, mobile, gender, hour_l \\\n",
    "FROM final_table WHERE week_l > 51\")\n",
    "# Define the feature column and the label column\n",
    "input_features = [\"custid\", \"length\", \"mobile\", \"gender\", \"hour_l\"]\n",
    "feature_col = VectorAssembler(inputCols=input_features, outputCol=\"features\")"
   ]
  },
  {
   "cell_type": "code",
   "execution_count": 48,
   "id": "8f16aea6",
   "metadata": {},
   "outputs": [
    {
     "name": "stderr",
     "output_type": "stream",
     "text": [
      "                                                                                \r"
     ]
    }
   ],
   "source": [
    "# Define the models\n",
    "rf = RandomForestRegressor(labelCol='trackid',featuresCol='features', numTrees=20)\n",
    "pipeline = Pipeline(stages=[rf])\n",
    "model = pipeline.fit(feature_col.transform(reg_train_data))\n",
    "predictions = model.transform(feature_col.transform(reg_test_data))\n",
    "evaluator = RegressionEvaluator(predictionCol=\"prediction\", labelCol=\"trackid\", metricName=\"rmse\")\n",
    "reg_rmse = evaluator.evaluate(predictions)\n",
    "#print(\"RMSE: %.3f\" % rmse)"
   ]
  },
  {
   "cell_type": "code",
   "execution_count": 49,
   "id": "b3163faf",
   "metadata": {},
   "outputs": [
    {
     "name": "stdout",
     "output_type": "stream",
     "text": [
      "---------------------- Summary  Table ----------------------\n",
      "------------------------------------------------------------\n",
      "Root-mean-square error:  485.64161955755935\n",
      "------------------------------------------------------------\n"
     ]
    }
   ],
   "source": [
    "print('--'*11, \"Summary  Table\", \"--\"*11)\n",
    "print('--'*30)\n",
    "print(\"Root-mean-square error: \" , reg_rmse)\n",
    "print('--'*30)"
   ]
  },
  {
   "cell_type": "markdown",
   "id": "a9e4bda1",
   "metadata": {},
   "source": [
    "### Section 3-1-2 Random Forest Regressor with using implicit rating"
   ]
  },
  {
   "cell_type": "code",
   "execution_count": 44,
   "id": "6ef1ec0f",
   "metadata": {},
   "outputs": [],
   "source": [
    "# Define the feature column and the label column\n",
    "input_features = [\"custid\", \"rating\"]\n",
    "feature_reg = VectorAssembler(inputCols=input_features, outputCol=\"features\")"
   ]
  },
  {
   "cell_type": "code",
   "execution_count": 45,
   "id": "caf7ab9d",
   "metadata": {},
   "outputs": [
    {
     "name": "stderr",
     "output_type": "stream",
     "text": [
      "                                                                                \r"
     ]
    }
   ],
   "source": [
    "# Define the models\n",
    "rf2 = RandomForestRegressor(labelCol='trackid',featuresCol='features', numTrees=20)\n",
    "pipeline2 = Pipeline(stages=[rf2])\n",
    "model2 = pipeline2.fit(feature_reg.transform(train_table))\n",
    "predictions2 = model2.transform(feature_reg.transform(test_table))\n",
    "evaluator2 = RegressionEvaluator(predictionCol=\"prediction\", labelCol=\"trackid\", metricName=\"rmse\")\n",
    "reg_rmse2 = evaluator2.evaluate(predictions2)\n",
    "#print(\"RMSE: %.3f\" % rmse)"
   ]
  },
  {
   "cell_type": "code",
   "execution_count": 46,
   "id": "a8d50306",
   "metadata": {},
   "outputs": [
    {
     "name": "stdout",
     "output_type": "stream",
     "text": [
      "---------------------- Summary  Table ----------------------\n",
      "------------------------------------------------------------\n",
      "Root-mean-square error:  492.632401063172\n",
      "------------------------------------------------------------\n"
     ]
    }
   ],
   "source": [
    "print('--'*11, \"Summary  Table\", \"--\"*11)\n",
    "print('--'*30)\n",
    "print(\"Root-mean-square error: \" , reg_rmse2)\n",
    "print('--'*30)"
   ]
  },
  {
   "cell_type": "markdown",
   "id": "b8c41b60",
   "metadata": {},
   "source": [
    "### Section 3-2 Recommendation Model from implicit rating"
   ]
  },
  {
   "cell_type": "code",
   "execution_count": 121,
   "id": "e93f0503",
   "metadata": {},
   "outputs": [
    {
     "name": "stderr",
     "output_type": "stream",
     "text": [
      "[Stage 7253:>                                                       (0 + 3) / 3]\r"
     ]
    },
    {
     "name": "stdout",
     "output_type": "stream",
     "text": [
      "Root-mean-square error = 1.620028\n"
     ]
    },
    {
     "name": "stderr",
     "output_type": "stream",
     "text": [
      "\r",
      "                                                                                \r"
     ]
    }
   ],
   "source": [
    "als = ALS(maxIter=5, regParam=0.01, userCol=\"custid\", itemCol=\"trackid\", ratingCol=\"rating\")\n",
    "paramGrid = ParamGridBuilder() \\\n",
    "    .addGrid(als.rank, [10, 20]) \\\n",
    "    .addGrid(als.regParam, [0.05, 0.1]) \\\n",
    "    .build()\n",
    "evaluator = RegressionEvaluator(metricName=\"rmse\", labelCol=\"rating\", predictionCol=\"prediction\")\n",
    "\n",
    "cv = CrossValidator(estimator=als, estimatorParamMaps=paramGrid, evaluator=evaluator, numFolds=5)\n",
    "cvModel = cv.fit(train_table)\n",
    "predictions = cvModel.transform(test_table)\n",
    "rmse = evaluator.evaluate(predictions)\n",
    "print(\"Root-mean-square error = %f\" % rmse)"
   ]
  },
  {
   "cell_type": "code",
   "execution_count": 123,
   "id": "3ad86380",
   "metadata": {},
   "outputs": [
    {
     "name": "stdout",
     "output_type": "stream",
     "text": [
      "---------------------- Summary  Table ----------------------\n",
      "------------------------------------------------------------\n",
      "Root-mean-square error:  1.6200276861260547\n",
      "Best rank: 20\n",
      "Best maxIter: 5\n",
      "Best regParam: 0.05\n",
      "------------------------------------------------------------\n"
     ]
    }
   ],
   "source": [
    "print('--'*11, \"Summary  Table\", \"--\"*11)\n",
    "print('--'*30)\n",
    "print(\"Root-mean-square error: \" , rmse)\n",
    "print(\"Best rank:\", cvModel.bestModel.rank)\n",
    "print(\"Best maxIter:\", cvModel.bestModel._java_obj.parent().getMaxIter())\n",
    "print(\"Best regParam:\", cvModel.bestModel._java_obj.parent().getRegParam())\n",
    "print('--'*30)"
   ]
  },
  {
   "cell_type": "code",
   "execution_count": 125,
   "id": "aa46d6b2",
   "metadata": {},
   "outputs": [
    {
     "name": "stderr",
     "output_type": "stream",
     "text": [
      "                                                                                \r"
     ]
    },
    {
     "name": "stdout",
     "output_type": "stream",
     "text": [
      "23/04/06 17:05:16 WARN InstanceBuilder$NativeBLAS: Failed to load implementation from:dev.ludovic.netlib.blas.JNIBLAS\n",
      "23/04/06 17:05:16 WARN InstanceBuilder$NativeBLAS: Failed to load implementation from:dev.ludovic.netlib.blas.ForeignLinkerBLAS\n"
     ]
    },
    {
     "name": "stderr",
     "output_type": "stream",
     "text": [
      "                                                                                \r"
     ]
    }
   ],
   "source": [
    "best_als= ALS(maxIter=5, rank=20, regParam=0.05, userCol=\"custid\", itemCol=\"trackid\", ratingCol=\"rating\", \n",
    "            coldStartStrategy=\"drop\", implicitPrefs=True, nonnegative=False)\n",
    "als_model = best_als.fit(train_table)"
   ]
  },
  {
   "cell_type": "code",
   "execution_count": 128,
   "id": "92c1b77d",
   "metadata": {},
   "outputs": [
    {
     "name": "stderr",
     "output_type": "stream",
     "text": [
      "[Stage 7498:====================================================>(99 + 1) / 100]\r"
     ]
    },
    {
     "name": "stdout",
     "output_type": "stream",
     "text": [
      "+------+--------------------+\n",
      "|custid|     recommendations|\n",
      "+------+--------------------+\n",
      "|     1|[{193, 1.2897632}...|\n",
      "|     3|[{182, 1.2418493}...|\n",
      "|     6|[{182, 1.2035296}...|\n",
      "|    12|[{31, 1.1878136},...|\n",
      "|    13|[{35, 1.1938058},...|\n",
      "|    16|[{35, 1.1926222},...|\n",
      "|    20|[{17, 1.1647046},...|\n",
      "|    22|[{31, 1.2463204},...|\n",
      "|    26|[{30, 1.2055833},...|\n",
      "|    27|[{22, 1.1992271},...|\n",
      "|    28|[{31, 1.2367072},...|\n",
      "|    31|[{31, 1.2072195},...|\n",
      "|    34|[{26, 1.2027191},...|\n",
      "|    40|[{11, 1.1621014},...|\n",
      "|    44|[{13, 1.1842364},...|\n",
      "|    47|[{35, 1.2097982},...|\n",
      "|    48|[{15, 1.2481463},...|\n",
      "|    52|[{33, 1.2131203},...|\n",
      "|    53|[{24, 1.2248069},...|\n",
      "|    54|[{9, 1.160826}, {...|\n",
      "+------+--------------------+\n",
      "only showing top 20 rows\n",
      "\n"
     ]
    },
    {
     "name": "stderr",
     "output_type": "stream",
     "text": [
      "\r",
      "                                                                                \r"
     ]
    }
   ],
   "source": [
    "userPredict = als_model.recommendForAllUsers(10)\n",
    "userPredict.show()"
   ]
  },
  {
   "cell_type": "markdown",
   "id": "5e25bf6a",
   "metadata": {},
   "source": [
    "### Section 3-2 Recommendation Model from explicit rating"
   ]
  },
  {
   "cell_type": "code",
   "execution_count": 29,
   "id": "8e587dbc",
   "metadata": {},
   "outputs": [
    {
     "name": "stderr",
     "output_type": "stream",
     "text": [
      "[Stage 343:>                                                        (0 + 1) / 1]\r"
     ]
    },
    {
     "name": "stdout",
     "output_type": "stream",
     "text": [
      "+------+-------+------+\n",
      "|custid|trackid|rating|\n",
      "+------+-------+------+\n",
      "|   148|    890|     0|\n",
      "|  1342|    234|     0|\n",
      "|  2366|    567|     0|\n",
      "|  1645|     49|     0|\n",
      "|   148|   1312|     0|\n",
      "|   471|    412|     0|\n",
      "|  1088|     14|     0|\n",
      "|  2866|    430|     0|\n",
      "|  4818|   1434|     0|\n",
      "|  3749|    481|     0|\n",
      "|  1580|    290|     0|\n",
      "|  1645|     94|     0|\n",
      "|  1342|     38|     1|\n",
      "|   496|    149|     1|\n",
      "|  3175|     75|     0|\n",
      "|  1959|   1036|     0|\n",
      "|   148|   1485|     1|\n",
      "|   148|   1303|     0|\n",
      "|  1088|   1587|     0|\n",
      "|   148|    974|     1|\n",
      "+------+-------+------+\n",
      "only showing top 20 rows\n",
      "\n"
     ]
    },
    {
     "name": "stderr",
     "output_type": "stream",
     "text": [
      "\r",
      "                                                                                \r"
     ]
    }
   ],
   "source": [
    "explicit_table = spark.sql(\"SELECT custid, trackid,\\\n",
    "       CASE WHEN SUM(CASE WHEN length>=0 THEN 1 ELSE 0 END)<2 THEN 0\\\n",
    "            WHEN SUM(CASE WHEN length>=0 THEN 1 ELSE 0 END)<4 THEN 1\\\n",
    "            WHEN SUM(CASE WHEN length>=0 THEN 1 ELSE 0 END)<7 THEN 2\\\n",
    "            ELSE 3 END AS rating \\\n",
    "FROM final_table GROUP BY custid, trackid\")\n",
    "explicit_table.show()"
   ]
  },
  {
   "cell_type": "code",
   "execution_count": 36,
   "id": "302caafa",
   "metadata": {},
   "outputs": [
    {
     "name": "stderr",
     "output_type": "stream",
     "text": [
      "[Stage 379:===========>    (7 + 1) / 10][Stage 404:=>              (1 + 0) / 10]\r"
     ]
    },
    {
     "name": "stdout",
     "output_type": "stream",
     "text": [
      "23/04/06 23:33:53 WARN CacheManager: Asked to cache already cached data.\n",
      "23/04/06 23:33:53 WARN CacheManager: Asked to cache already cached data.\n"
     ]
    },
    {
     "name": "stderr",
     "output_type": "stream",
     "text": [
      "                                                                                0]\r"
     ]
    },
    {
     "name": "stdout",
     "output_type": "stream",
     "text": [
      "Root-mean-square error = 0.336408\n"
     ]
    }
   ],
   "source": [
    "rating_ex_train, rating_ex_test = explicit_table.randomSplit([0.8, 0.2],seed=40)\n",
    "ex_als = ALS(maxIter=5, regParam=0.01, userCol=\"custid\", itemCol=\"trackid\", ratingCol=\"rating\")\n",
    "ex_paramGrid = ParamGridBuilder() \\\n",
    "    .addGrid(als.rank, [10, 20]) \\\n",
    "    .addGrid(als.regParam, [0.05, 0.1]) \\\n",
    "    .build()\n",
    "ex_evaluator = RegressionEvaluator(metricName=\"rmse\", labelCol=\"rating\", predictionCol=\"prediction\")\n",
    "\n",
    "ex_cv = CrossValidator(estimator=ex_als, estimatorParamMaps=ex_paramGrid, evaluator=ex_evaluator, numFolds=5)\n",
    "ex_cvModel = ex_cv.fit(rating_ex_train)\n",
    "predictions = ex_cvModel.transform(rating_ex_test)\n",
    "ex_rmse = ex_evaluator.evaluate(predictions)\n",
    "print(\"Root-mean-square error = %f\" % ex_rmse)"
   ]
  },
  {
   "cell_type": "code",
   "execution_count": 37,
   "id": "a1ce03cf",
   "metadata": {},
   "outputs": [
    {
     "name": "stdout",
     "output_type": "stream",
     "text": [
      "---------------------- Summary  Table ----------------------\n",
      "------------------------------------------------------------\n",
      "Root-mean-square error:  0.3364084196146312\n",
      "Best rank: 10\n",
      "Best maxIter: 5\n",
      "Best regParam: 0.01\n",
      "------------------------------------------------------------\n"
     ]
    }
   ],
   "source": [
    "print('--'*11, \"Summary  Table\", \"--\"*11)\n",
    "print('--'*30)\n",
    "print(\"Root-mean-square error: \" , ex_rmse)\n",
    "print(\"Best rank:\", ex_cvModel.bestModel.rank)\n",
    "print(\"Best maxIter:\", ex_cvModel.bestModel._java_obj.parent().getMaxIter())\n",
    "print(\"Best regParam:\", ex_cvModel.bestModel._java_obj.parent().getRegParam())\n",
    "print('--'*30)"
   ]
  },
  {
   "cell_type": "code",
   "execution_count": 40,
   "id": "2b1ff4f1",
   "metadata": {},
   "outputs": [
    {
     "name": "stderr",
     "output_type": "stream",
     "text": [
      "                                                                                \r"
     ]
    }
   ],
   "source": [
    "best_ex_als= ALS(maxIter=5, rank=10, regParam=0.01, userCol=\"custid\", itemCol=\"trackid\", ratingCol=\"rating\", \n",
    "            coldStartStrategy=\"drop\", implicitPrefs=True, nonnegative=False)\n",
    "ex_als_model = best_ex_als.fit(rating_ex_train)"
   ]
  },
  {
   "cell_type": "code",
   "execution_count": 41,
   "id": "da561172",
   "metadata": {},
   "outputs": [
    {
     "name": "stderr",
     "output_type": "stream",
     "text": [
      "[Stage 3512:====================================================>(99 + 1) / 100]\r"
     ]
    },
    {
     "name": "stdout",
     "output_type": "stream",
     "text": [
      "+------+--------------------+\n",
      "|custid|     recommendations|\n",
      "+------+--------------------+\n",
      "|     1|[{76, 1.1636494},...|\n",
      "|     3|[{34, 1.0643408},...|\n",
      "|     6|[{20, 0.9961134},...|\n",
      "|    12|[{20, 0.95577705}...|\n",
      "|    13|[{8, 1.0419946}, ...|\n",
      "|    16|[{7, 0.9656344}, ...|\n",
      "|    20|[{8, 0.91753566},...|\n",
      "|    22|[{6, 0.9248939}, ...|\n",
      "|    26|[{5, 0.9536456}, ...|\n",
      "|    27|[{6, 1.0747464}, ...|\n",
      "|    28|[{7, 0.9537487}, ...|\n",
      "|    31|[{9, 1.0733924}, ...|\n",
      "|    34|[{6, 1.0813093}, ...|\n",
      "|    40|[{6, 0.9959976}, ...|\n",
      "|    44|[{6, 1.0376182}, ...|\n",
      "|    47|[{6, 1.0277209}, ...|\n",
      "|    48|[{5, 1.0316222}, ...|\n",
      "|    52|[{7, 0.9687897}, ...|\n",
      "|    53|[{4, 1.0331889}, ...|\n",
      "|    54|[{6, 1.0881703}, ...|\n",
      "+------+--------------------+\n",
      "only showing top 20 rows\n",
      "\n"
     ]
    },
    {
     "name": "stderr",
     "output_type": "stream",
     "text": [
      "\r",
      "                                                                                \r"
     ]
    }
   ],
   "source": [
    "userexPredict = ex_als_model.recommendForAllUsers(10)\n",
    "userexPredict.show()"
   ]
  }
 ],
 "metadata": {
  "kernelspec": {
   "display_name": "Python 3 (ipykernel)",
   "language": "python",
   "name": "python3"
  },
  "language_info": {
   "codemirror_mode": {
    "name": "ipython",
    "version": 3
   },
   "file_extension": ".py",
   "mimetype": "text/x-python",
   "name": "python",
   "nbconvert_exporter": "python",
   "pygments_lexer": "ipython3",
   "version": "3.9.13"
  }
 },
 "nbformat": 4,
 "nbformat_minor": 5
}
